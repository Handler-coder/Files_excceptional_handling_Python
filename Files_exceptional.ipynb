{
  "nbformat": 4,
  "nbformat_minor": 0,
  "metadata": {
    "colab": {
      "provenance": []
    },
    "kernelspec": {
      "name": "python3",
      "display_name": "Python 3"
    },
    "language_info": {
      "name": "python"
    }
  },
  "cells": [
    {
      "cell_type": "markdown",
      "source": [
        "##**Theory Questions**"
      ],
      "metadata": {
        "id": "uWmQx4crpR3y"
      }
    },
    {
      "cell_type": "markdown",
      "source": [
        "1.What is the difference between interpreted and compiled languages?\n",
        "\n",
        " *  Interpreted: Code is executed line-by-line by an interpreter (e.g., Python, JavaScript).\n",
        "\n",
        " * Compiled: Code is translated into machine code before execution (e.g., C, C\n",
        "   ++).\n",
        "\n",
        " * Interpreted is slower but more flexible; compiled is faster but less\n",
        "  flexible."
      ],
      "metadata": {
        "id": "ZapdRKvSpR6P"
      }
    },
    {
      "cell_type": "markdown",
      "source": [
        "2. What is exception handling in Python?\n",
        "\n",
        " * A mechanism to handle runtime errors without stopping the program, using try, except, else, and finally blocks."
      ],
      "metadata": {
        "id": "gcYdfnxbpR9C"
      }
    },
    {
      "cell_type": "markdown",
      "source": [
        "3. What is the purpose of the finally block in exception handling?\n",
        "\n",
        " * Executes code regardless of whether an exception occurred — often used for cleanup like closing files or releasing resources."
      ],
      "metadata": {
        "id": "y8s13-iSpR_d"
      }
    },
    {
      "cell_type": "markdown",
      "source": [
        "4.What is logging in Python?\n",
        "\n",
        " * The process of recording messages about a program’s execution (errors, warnings, info) using Python’s logging module."
      ],
      "metadata": {
        "id": "swKN_iRhpSCB"
      }
    },
    {
      "cell_type": "markdown",
      "source": [
        "5.What is the significance of the __del__ method in Python?\n",
        "\n",
        " * A destructor method called when an object is about to be destroyed; used for cleanup."
      ],
      "metadata": {
        "id": "2BmHjbGypSET"
      }
    },
    {
      "cell_type": "markdown",
      "source": [
        "6.What is the difference between import and from ... import in Python?\n",
        "\n",
        " * import module: Imports the entire module.\n",
        "\n",
        " * from module import name: Imports only specific attributes/functions."
      ],
      "metadata": {
        "id": "DUZeEkiZpSHG"
      }
    },
    {
      "cell_type": "markdown",
      "source": [
        "7. How can you handle multiple exceptions in Python?\n",
        "\n",
        " * By using multiple except blocks.\n",
        "\n",
        " * Or catching multiple exceptions in one block:\n",
        "\n",
        "   except (TypeError, ValueError) as e:\n",
        "\n"
      ],
      "metadata": {
        "id": "ep4Gx6_FpSKA"
      }
    },
    {
      "cell_type": "markdown",
      "source": [
        "8.What is the purpose of the with statement when handling files in Python?\n",
        "\n",
        " * Ensures files are automatically closed after use, even if an exception occurs."
      ],
      "metadata": {
        "id": "uZBqyFWXpSMl"
      }
    },
    {
      "cell_type": "markdown",
      "source": [
        "9.What is the difference between multithreading and multiprocessing?\n",
        "\n",
        " * Multithreading: Multiple threads in the same process share memory.\n",
        "\n",
        " * Multiprocessing: Multiple processes run independently with separate memory."
      ],
      "metadata": {
        "id": "B4d9JmNnpSPf"
      }
    },
    {
      "cell_type": "markdown",
      "source": [
        "10.What are the advantages of using logging in a program?\n",
        "\n",
        " * Provides debugging info.\n",
        "\n",
        " * Tracks events.\n",
        "\n",
        " * Stores error history.\n",
        "\n",
        " * Helps in monitoring applications."
      ],
      "metadata": {
        "id": "e-O_kKHzpSSA"
      }
    },
    {
      "cell_type": "markdown",
      "source": [
        "11.What is memory management in Python?\n",
        "\n",
        " * Python uses automatic garbage collection and a private heap for memory allocation."
      ],
      "metadata": {
        "id": "TtUOUFrLpSUk"
      }
    },
    {
      "cell_type": "markdown",
      "source": [
        "12.What are the basic steps involved in exception handling in Python?\n",
        "\n",
        " 1. Write risky code in try.\n",
        "\n",
        " 2. Handle errors in except.\n",
        "\n",
        " 3. (Optional) Execute normal code in else.\n",
        "\n",
        " 4. (Optional) Cleanup in finally."
      ],
      "metadata": {
        "id": "R3YcZZP5pSXV"
      }
    },
    {
      "cell_type": "markdown",
      "source": [
        "13.Why is memory management important in Python?\n",
        "\n",
        " * Prevents memory leaks, improves performance, and ensures resources are freed when no longer needed."
      ],
      "metadata": {
        "id": "F8ewUZ33pSZ0"
      }
    },
    {
      "cell_type": "markdown",
      "source": [
        "14.What is the role of try and except in exception handling?\n",
        "\n",
        " * try: Wraps code that may cause an error.\n",
        "\n",
        " * except: Handles the error if it occurs."
      ],
      "metadata": {
        "id": "dujkREvZpScp"
      }
    },
    {
      "cell_type": "markdown",
      "source": [
        "15.How does Python's garbage collection system work?\n",
        "\n",
        " * Uses reference counting and a cyclic garbage collector to free unused objects."
      ],
      "metadata": {
        "id": "2dfiX51fpSfK"
      }
    },
    {
      "cell_type": "markdown",
      "source": [
        "16.What is the purpose of the else block in exception handling?\n",
        "\n",
        " * Runs only if no exception occurs in the try block."
      ],
      "metadata": {
        "id": "CzaLzAe0pShU"
      }
    },
    {
      "cell_type": "markdown",
      "source": [
        "17.What are the common logging levels in Python?\n",
        "\n",
        " * DEBUG, INFO, WARNING, ERROR, CRITICAL."
      ],
      "metadata": {
        "id": "oBHLi1vYpSj9"
      }
    },
    {
      "cell_type": "markdown",
      "source": [
        "18.What is the difference between os.fork() and multiprocessing in Python?\n",
        "\n",
        " * os.fork(): Creates a child process (Unix only).\n",
        "\n",
        " * multiprocessing: Cross-platform library for creating processes."
      ],
      "metadata": {
        "id": "hvlMruSUpSmU"
      }
    },
    {
      "cell_type": "markdown",
      "source": [
        "19.What is the importance of closing a file in Python?\n",
        "\n",
        " * Releases system resources and ensures all data is saved properly."
      ],
      "metadata": {
        "id": "rUedFpxLpSpu"
      }
    },
    {
      "cell_type": "markdown",
      "source": [
        "20.What is the difference between file.read() and file.readline() in Python?\n",
        "\n",
        " * read(): Reads the entire file or a given number of characters.\n",
        "\n",
        " * readline(): Reads one line at a time."
      ],
      "metadata": {
        "id": "Luu-wJMhpSsE"
      }
    },
    {
      "cell_type": "markdown",
      "source": [
        "21.What is the logging module in Python used for?\n",
        "\n",
        " * To generate and control log messages for monitoring and debugging."
      ],
      "metadata": {
        "id": "MmLn2KdopSum"
      }
    },
    {
      "cell_type": "markdown",
      "source": [
        "22.What is the os module in Python used for in file handling?\n",
        "\n",
        " * Provides functions to interact with the operating system, e.g., creating, deleting, and navigating files/directories."
      ],
      "metadata": {
        "id": "eKaSdjx8pSxK"
      }
    },
    {
      "cell_type": "markdown",
      "source": [
        "23.What are the challenges associated with memory management in Python?\n",
        "\n",
        " * Circular references.\n",
        "\n",
        " * Memory fragmentation.\n",
        "\n",
        " * Large object retention."
      ],
      "metadata": {
        "id": "UASBea0JpSzX"
      }
    },
    {
      "cell_type": "markdown",
      "source": [
        "24. How do you raise an exception manually in Python?\n",
        "\n",
        " * raise ValueError(\"Custom error message\")\n"
      ],
      "metadata": {
        "id": "BsvcgW70pS1f"
      }
    },
    {
      "cell_type": "markdown",
      "source": [
        "25.Why is it important to use multithreading in certain applications ?\n",
        "\n",
        " * Enables concurrent execution for I/O-bound tasks, improves responsiveness, and can handle multiple requests simultaneously."
      ],
      "metadata": {
        "id": "ZjNvkOhFpS3c"
      }
    },
    {
      "cell_type": "markdown",
      "source": [
        "##Practical Questions"
      ],
      "metadata": {
        "id": "qHUQ1CM8pS5i"
      }
    },
    {
      "cell_type": "markdown",
      "source": [
        "1.How can you open a file for writing in Python and write a string to it?"
      ],
      "metadata": {
        "id": "wdU65PU_pS7j"
      }
    },
    {
      "cell_type": "code",
      "source": [
        "with open(\"test.txt\", \"w\") as f:\n",
        "    f.write(\"Hello, Python!\\n\")\n",
        "\n",
        "# Output: A file named test.txt is created with the text \"Hello, Python!\"\n"
      ],
      "metadata": {
        "id": "n6ZDOTRWuCd4"
      },
      "execution_count": 31,
      "outputs": []
    },
    {
      "cell_type": "markdown",
      "source": [
        "2.Write a Python program to read the contents of a file and print each line."
      ],
      "metadata": {
        "id": "8kIeeAhrpS9O"
      }
    },
    {
      "cell_type": "code",
      "source": [
        "with open(\"test.txt\", \"r\") as f:\n",
        "    for line in f:\n",
        "        print(line.strip())\n",
        "\n",
        "# Output:\n",
        "# Hello, Python!\n"
      ],
      "metadata": {
        "colab": {
          "base_uri": "https://localhost:8080/"
        },
        "id": "_dpJqvxsuygf",
        "outputId": "921b1193-82b4-4afb-9b04-a12bac38e4c0"
      },
      "execution_count": 5,
      "outputs": [
        {
          "output_type": "stream",
          "name": "stdout",
          "text": [
            "Hello, Python!\n"
          ]
        }
      ]
    },
    {
      "cell_type": "markdown",
      "source": [
        "3.How would you handle a case where the file doesn't exist while trying to open it for reading?"
      ],
      "metadata": {
        "id": "g3H0EhFJpS_A"
      }
    },
    {
      "cell_type": "code",
      "source": [
        "try:\n",
        "    with open(\"nofile.txt\", \"r\") as f:\n",
        "        print(f.read())\n",
        "except FileNotFoundError:\n",
        "    print(\"File does not exist.\")\n",
        "\n",
        "# Output:\n",
        "# File does not exist.\n"
      ],
      "metadata": {
        "colab": {
          "base_uri": "https://localhost:8080/"
        },
        "id": "SucwzCsgu9lu",
        "outputId": "64864da0-08ce-418f-82ea-6aa4b6348147"
      },
      "execution_count": 7,
      "outputs": [
        {
          "output_type": "stream",
          "name": "stdout",
          "text": [
            "File does not exist.\n"
          ]
        }
      ]
    },
    {
      "cell_type": "markdown",
      "source": [
        "4.Write a Python script that reads from one file and writes its content to another file."
      ],
      "metadata": {
        "id": "FjhBrjoApTBj"
      }
    },
    {
      "cell_type": "code",
      "source": [
        "with open(\"source.txt\", \"w\") as src:\n",
        "    src.write(\"This is source file data.\")\n",
        "\n",
        "with open(\"source.txt\", \"r\") as src, open(\"dest.txt\", \"w\") as dst:\n",
        "    dst.write(src.read())\n",
        "\n",
        "# Output: dest.txt contains \"This is source file data.\"\n"
      ],
      "metadata": {
        "id": "xSlWsMTDvHj1"
      },
      "execution_count": 9,
      "outputs": []
    },
    {
      "cell_type": "markdown",
      "source": [
        "5.How would you catch and handle division by zero error in Python?"
      ],
      "metadata": {
        "id": "xJhlUJYqpTFI"
      }
    },
    {
      "cell_type": "code",
      "source": [
        "try:\n",
        "    result = 10 / 0\n",
        "except ZeroDivisionError:\n",
        "    print(\"Cannot divide by zero.\")\n",
        "\n",
        "# Output:\n",
        "# Cannot divide by zero.\n"
      ],
      "metadata": {
        "colab": {
          "base_uri": "https://localhost:8080/"
        },
        "id": "DVD51OIbvSVC",
        "outputId": "8090d9dc-1d0e-4626-f909-38e1b7ca87dc"
      },
      "execution_count": 10,
      "outputs": [
        {
          "output_type": "stream",
          "name": "stdout",
          "text": [
            "Cannot divide by zero.\n"
          ]
        }
      ]
    },
    {
      "cell_type": "markdown",
      "source": [
        "6.Write a Python program that logs an error message to a log file when a division by zero exception occurs."
      ],
      "metadata": {
        "id": "QqE9_I1mvWMB"
      }
    },
    {
      "cell_type": "code",
      "source": [
        "import logging\n",
        "logging.basicConfig(filename=\"error.log\", level=logging.ERROR)\n",
        "\n",
        "try:\n",
        "    10 / 0\n",
        "except ZeroDivisionError:\n",
        "    logging.error(\"Division by zero occurred.\")\n",
        "\n",
        "# Output: error.log file contains an error message.\n"
      ],
      "metadata": {
        "colab": {
          "base_uri": "https://localhost:8080/"
        },
        "id": "VGSDN23nvWdi",
        "outputId": "d4a711ce-e758-454b-da1e-bad3273c1ffd"
      },
      "execution_count": 11,
      "outputs": [
        {
          "output_type": "stream",
          "name": "stderr",
          "text": [
            "ERROR:root:Division by zero occurred.\n"
          ]
        }
      ]
    },
    {
      "cell_type": "markdown",
      "source": [
        "7. How do you log information at different levels (INFO, ERROR, WARNING) in Python using the logging module?"
      ],
      "metadata": {
        "id": "3mfdpWQRvW4A"
      }
    },
    {
      "cell_type": "code",
      "source": [
        "logging.basicConfig(level=logging.DEBUG)\n",
        "logging.info(\"This is an info message.\")\n",
        "logging.warning(\"This is a warning.\")\n",
        "logging.error(\"This is an error.\")\n",
        "\n",
        "# Output in console:\n",
        "# INFO:root:This is an info message.\n",
        "# WARNING:root:This is a warning.\n",
        "# ERROR:root:This is an error.\n"
      ],
      "metadata": {
        "colab": {
          "base_uri": "https://localhost:8080/"
        },
        "id": "INEwVy8GvmBd",
        "outputId": "81ba5e22-b524-4c9f-c6ef-935aac273ba8"
      },
      "execution_count": 12,
      "outputs": [
        {
          "output_type": "stream",
          "name": "stderr",
          "text": [
            "WARNING:root:This is a warning.\n",
            "ERROR:root:This is an error.\n"
          ]
        }
      ]
    },
    {
      "cell_type": "markdown",
      "source": [
        "8.Write a program to handle a file opening error using exception handling."
      ],
      "metadata": {
        "id": "b0uVoiWEvW6l"
      }
    },
    {
      "cell_type": "code",
      "source": [
        "try:\n",
        "    with open(\"missing.txt\", \"r\") as f:\n",
        "        print(f.read())\n",
        "except FileNotFoundError:\n",
        "    print(\"File could not be opened.\")\n",
        "\n",
        "# Output:\n",
        "# File could not be opened.\n"
      ],
      "metadata": {
        "colab": {
          "base_uri": "https://localhost:8080/"
        },
        "id": "qvl9uGS2vx6v",
        "outputId": "03a02e5b-8881-49a5-e640-2ef1191581db"
      },
      "execution_count": 13,
      "outputs": [
        {
          "output_type": "stream",
          "name": "stdout",
          "text": [
            "File could not be opened.\n"
          ]
        }
      ]
    },
    {
      "cell_type": "markdown",
      "source": [
        "9.How can you read a file line by line and store its content in a list in Python?"
      ],
      "metadata": {
        "id": "z7-S0hFfvW9C"
      }
    },
    {
      "cell_type": "code",
      "source": [
        "with open(\"test.txt\", \"r\") as f:\n",
        "    lines = [line.strip() for line in f]\n",
        "print(lines)\n",
        "\n",
        "# Output:\n",
        "# ['Hello, Python!']\n"
      ],
      "metadata": {
        "colab": {
          "base_uri": "https://localhost:8080/"
        },
        "id": "gqJRdtI6v6oG",
        "outputId": "40b38541-6a2e-42eb-ccd5-83d142c63bb0"
      },
      "execution_count": 14,
      "outputs": [
        {
          "output_type": "stream",
          "name": "stdout",
          "text": [
            "['Hello, Python!']\n"
          ]
        }
      ]
    },
    {
      "cell_type": "markdown",
      "source": [
        "10.How can you append data to an existing file in Python?"
      ],
      "metadata": {
        "id": "9aW8uI1DvW_N"
      }
    },
    {
      "cell_type": "code",
      "source": [
        "with open(\"test.txt\", \"a\") as f:\n",
        "    f.write(\"New line added.\\n\")\n",
        "\n",
        "# Output: test.txt now contains the new line.\n"
      ],
      "metadata": {
        "id": "qM0ELw_DwCRo"
      },
      "execution_count": 30,
      "outputs": []
    },
    {
      "cell_type": "markdown",
      "source": [
        "11.Write a Python program that uses a try-except block to handle an error when attempting to access a\n",
        "dictionary key that doesn't exist."
      ],
      "metadata": {
        "id": "P6YjMMGdvXBZ"
      }
    },
    {
      "cell_type": "code",
      "source": [
        "data = {\"name\": \"John\"}\n",
        "try:\n",
        "    print(data[\"age\"])\n",
        "except KeyError:\n",
        "    print(\"Key not found.\")\n",
        "\n",
        "# Output:\n",
        "# Key not found.\n"
      ],
      "metadata": {
        "colab": {
          "base_uri": "https://localhost:8080/"
        },
        "id": "M0nZKcdxwJr4",
        "outputId": "839ac653-a14a-4087-ea45-c4bbf96501e7"
      },
      "execution_count": 16,
      "outputs": [
        {
          "output_type": "stream",
          "name": "stdout",
          "text": [
            "Key not found.\n"
          ]
        }
      ]
    },
    {
      "cell_type": "markdown",
      "source": [
        "12. Write a program that demonstrates using multiple except blocks to handle different types of exceptions."
      ],
      "metadata": {
        "id": "aGJuYKz7vXDm"
      }
    },
    {
      "cell_type": "code",
      "source": [
        "try:\n",
        "    num = int(\"abc\")\n",
        "    print(10 / num)\n",
        "except ValueError:\n",
        "    print(\"Value error.\")\n",
        "except ZeroDivisionError:\n",
        "    print(\"Division by zero.\")\n",
        "\n",
        "# Output:\n",
        "# Value error.\n"
      ],
      "metadata": {
        "colab": {
          "base_uri": "https://localhost:8080/"
        },
        "id": "T1mR7U-LwVq8",
        "outputId": "db8c2bb5-9434-4f93-cba9-ce4bf2c8a9be"
      },
      "execution_count": 17,
      "outputs": [
        {
          "output_type": "stream",
          "name": "stdout",
          "text": [
            "Value error.\n"
          ]
        }
      ]
    },
    {
      "cell_type": "markdown",
      "source": [
        "13.How would you check if a file exists before attempting to read it in Pytho?"
      ],
      "metadata": {
        "id": "_orn47rSvXFx"
      }
    },
    {
      "cell_type": "code",
      "source": [
        "import os\n",
        "if os.path.exists(\"test.txt\"):\n",
        "    print(\"File exists.\")\n",
        "else:\n",
        "    print(\"File not found.\")\n",
        "\n",
        "# Output:\n",
        "# File exists.\n"
      ],
      "metadata": {
        "colab": {
          "base_uri": "https://localhost:8080/"
        },
        "id": "WHqTXzK9whzZ",
        "outputId": "54f3ef8a-4546-45aa-fb0d-af5976d9f932"
      },
      "execution_count": 18,
      "outputs": [
        {
          "output_type": "stream",
          "name": "stdout",
          "text": [
            "File exists.\n"
          ]
        }
      ]
    },
    {
      "cell_type": "markdown",
      "source": [
        "14.Write a program that uses the logging module to log both informational and error messages."
      ],
      "metadata": {
        "id": "xLdf7ThIvXKe"
      }
    },
    {
      "cell_type": "code",
      "source": [
        "logging.basicConfig(filename=\"app.log\", level=logging.DEBUG)\n",
        "logging.info(\"This is an info message.\")\n",
        "logging.error(\"This is an error message.\")\n"
      ],
      "metadata": {
        "colab": {
          "base_uri": "https://localhost:8080/"
        },
        "id": "S2z39-EfwpYd",
        "outputId": "f73b12ff-c200-414a-c2d0-7708bcb643d8"
      },
      "execution_count": 19,
      "outputs": [
        {
          "output_type": "stream",
          "name": "stderr",
          "text": [
            "ERROR:root:This is an error message.\n"
          ]
        }
      ]
    },
    {
      "cell_type": "markdown",
      "source": [
        "15.Write a Python program that prints the content of a file and handles the case when the file is empty."
      ],
      "metadata": {
        "id": "iR-rfIIQvXMt"
      }
    },
    {
      "cell_type": "code",
      "source": [
        "with open(\"empty.txt\", \"w\") as f:\n",
        "    pass\n",
        "\n",
        "with open(\"empty.txt\", \"r\") as f:\n",
        "    content = f.read()\n",
        "    if content:\n",
        "        print(content)\n",
        "    else:\n",
        "        print(\"File is empty.\")\n",
        "\n",
        "# Output:\n",
        "# File is empty.\n"
      ],
      "metadata": {
        "colab": {
          "base_uri": "https://localhost:8080/"
        },
        "id": "WQPmCHcEwwpm",
        "outputId": "f227dcc9-5322-45fa-e857-cf79751a5f56"
      },
      "execution_count": 20,
      "outputs": [
        {
          "output_type": "stream",
          "name": "stdout",
          "text": [
            "File is empty.\n"
          ]
        }
      ]
    },
    {
      "cell_type": "markdown",
      "source": [
        "16.F Demonstrate how to use memory profiling to check the memory usage of a small program."
      ],
      "metadata": {
        "id": "-hACZwqjvXO1"
      }
    },
    {
      "cell_type": "code",
      "source": [
        "import tracemalloc\n",
        "tracemalloc.start()\n",
        "\n",
        "nums = [i for i in range(100000)]\n",
        "print(\"Memory used:\", tracemalloc.get_traced_memory())\n",
        "\n",
        "tracemalloc.stop()\n"
      ],
      "metadata": {
        "colab": {
          "base_uri": "https://localhost:8080/"
        },
        "id": "StbvQ3pHw3av",
        "outputId": "c185be18-6f6d-4b5a-ae1d-a4f6b8c3ac87"
      },
      "execution_count": 21,
      "outputs": [
        {
          "output_type": "stream",
          "name": "stdout",
          "text": [
            "Memory used: (3993723, 4005149)\n"
          ]
        }
      ]
    },
    {
      "cell_type": "markdown",
      "source": [
        "17.Write a Python program to create and write a list of numbers to a file, one number per line."
      ],
      "metadata": {
        "id": "2Fec7wRGvXRE"
      }
    },
    {
      "cell_type": "code",
      "source": [
        "numbers = [1, 2, 3, 4, 5]\n",
        "with open(\"numbers.txt\", \"w\") as f:\n",
        "    for num in numbers:\n",
        "        f.write(f\"{num}\\n\")\n"
      ],
      "metadata": {
        "id": "8CnW4Gajw_XY"
      },
      "execution_count": 23,
      "outputs": []
    },
    {
      "cell_type": "markdown",
      "source": [
        "18.How would you implement a basic logging setup that logs to a file with rotation after 1MB?"
      ],
      "metadata": {
        "id": "5y-kxbpZvXTK"
      }
    },
    {
      "cell_type": "code",
      "source": [
        "from logging.handlers import RotatingFileHandler\n",
        "\n",
        "handler = RotatingFileHandler(\"rotating.log\", maxBytes=1024*1024, backupCount=1)\n",
        "logger = logging.getLogger()\n",
        "logger.setLevel(logging.INFO)\n",
        "logger.addHandler(handler)\n",
        "\n",
        "logger.info(\"This is a rotating log message.\")\n"
      ],
      "metadata": {
        "colab": {
          "base_uri": "https://localhost:8080/"
        },
        "id": "HNzroiLexJ1r",
        "outputId": "2106b228-5ccd-49d6-8774-ac6597e2d54a"
      },
      "execution_count": 24,
      "outputs": [
        {
          "output_type": "stream",
          "name": "stderr",
          "text": [
            "INFO:root:This is a rotating log message.\n"
          ]
        }
      ]
    },
    {
      "cell_type": "markdown",
      "source": [
        "19.Write a program that handles both IndexError and KeyError using a try-except block."
      ],
      "metadata": {
        "id": "QIWNodsHvXbC"
      }
    },
    {
      "cell_type": "code",
      "source": [
        "try:\n",
        "    lst = [1, 2, 3]\n",
        "    print(lst[5])\n",
        "except IndexError:\n",
        "    print(\"Index out of range.\")\n",
        "except KeyError:\n",
        "    print(\"Key not found.\")\n"
      ],
      "metadata": {
        "colab": {
          "base_uri": "https://localhost:8080/"
        },
        "id": "OA5bU9T_xRjw",
        "outputId": "2a14246b-461e-4fe6-e651-9703edc01ac3"
      },
      "execution_count": 25,
      "outputs": [
        {
          "output_type": "stream",
          "name": "stdout",
          "text": [
            "Index out of range.\n"
          ]
        }
      ]
    },
    {
      "cell_type": "markdown",
      "source": [
        "20.How would you open a file and read its contents using a context manager in Python?"
      ],
      "metadata": {
        "id": "N8wLSl-HvXej"
      }
    },
    {
      "cell_type": "code",
      "source": [
        "with open(\"test.txt\", \"r\") as f:\n",
        "    print(f.read())\n"
      ],
      "metadata": {
        "colab": {
          "base_uri": "https://localhost:8080/"
        },
        "id": "rBUEc4v-xcpf",
        "outputId": "c2fbc9aa-f9b3-449a-db3d-bbdd130a6f7c"
      },
      "execution_count": 26,
      "outputs": [
        {
          "output_type": "stream",
          "name": "stdout",
          "text": [
            "Hello, Python!\n",
            "New line added.\n",
            "\n"
          ]
        }
      ]
    },
    {
      "cell_type": "markdown",
      "source": [
        "21.Write a Python program that reads a file and prints the number of occurrences of a specific word."
      ],
      "metadata": {
        "id": "RTQnyNGUxiab"
      }
    },
    {
      "cell_type": "code",
      "source": [
        "word = \"Python\"\n",
        "count = 0\n",
        "with open(\"test.txt\", \"r\") as f:\n",
        "    for line in f:\n",
        "        count += line.count(word)\n",
        "print(f\"'{word}' occurs {count} times.\")\n"
      ],
      "metadata": {
        "colab": {
          "base_uri": "https://localhost:8080/"
        },
        "id": "bbjOqbOIxoKL",
        "outputId": "307198e9-692a-4a4f-c960-4a26ed2f9e68"
      },
      "execution_count": 27,
      "outputs": [
        {
          "output_type": "stream",
          "name": "stdout",
          "text": [
            "'Python' occurs 1 times.\n"
          ]
        }
      ]
    },
    {
      "cell_type": "markdown",
      "source": [
        "22.How can you check if a file is empty before attempting to read its contents?"
      ],
      "metadata": {
        "id": "BtgfVvCzxix6"
      }
    },
    {
      "cell_type": "code",
      "source": [
        "import os\n",
        "if os.path.getsize(\"test.txt\") == 0:\n",
        "    print(\"File is empty.\")\n",
        "else:\n",
        "    print(\"File has data.\")\n"
      ],
      "metadata": {
        "colab": {
          "base_uri": "https://localhost:8080/"
        },
        "id": "n4cszWUsxv9U",
        "outputId": "df84cd2c-55ce-45fc-fc8c-0ea8a6c822b9"
      },
      "execution_count": 28,
      "outputs": [
        {
          "output_type": "stream",
          "name": "stdout",
          "text": [
            "File has data.\n"
          ]
        }
      ]
    },
    {
      "cell_type": "markdown",
      "source": [
        "23.Write a Python program that writes to a log file when an error occurs during file handling."
      ],
      "metadata": {
        "id": "nNUI82SHxjFz"
      }
    },
    {
      "cell_type": "code",
      "source": [
        "try:\n",
        "    with open(\"notfound.txt\", \"r\") as f:\n",
        "        print(f.read())\n",
        "except Exception as e:\n",
        "    logging.error(f\"Error occurred: {e}\")\n"
      ],
      "metadata": {
        "colab": {
          "base_uri": "https://localhost:8080/"
        },
        "id": "g9OIf1Vfx4Mc",
        "outputId": "49717128-1530-4a1f-8e2c-020501ed5a0a"
      },
      "execution_count": 29,
      "outputs": [
        {
          "output_type": "stream",
          "name": "stderr",
          "text": [
            "ERROR:root:Error occurred: [Errno 2] No such file or directory: 'notfound.txt'\n"
          ]
        }
      ]
    }
  ]
}